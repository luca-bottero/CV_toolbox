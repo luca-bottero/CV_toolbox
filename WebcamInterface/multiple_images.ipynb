{
 "cells": [
  {
   "cell_type": "markdown",
   "metadata": {},
   "source": [
    "# Multiple Images in one window\n",
    "\n",
    "This notebooks shows how to plot different images in the same window"
   ]
  },
  {
   "cell_type": "code",
   "execution_count": 1,
   "metadata": {},
   "outputs": [
    {
     "name": "stderr",
     "output_type": "stream",
     "text": [
      "Qt: Session management error: Could not open network socket\n"
     ]
    }
   ],
   "source": [
    "import cv2\n",
    "import numpy as np\n",
    "from copy import copy\n",
    "\n",
    "cap = cv2.VideoCapture(0)\n",
    "\n",
    "# Check if the webcam is opened correctly\n",
    "if not cap.isOpened():\n",
    "    raise IOError(\"Cannot open webcam\")\n",
    "\n",
    "def get_fields(frame):\n",
    "\t# split the image into its BGR components\n",
    "\t(B, G, R) = cv2.split(frame)\n",
    "\t# find the maximum pixel intensity values for each\n",
    "\t# (x, y)-coordinate,, then set all pixel values less\n",
    "\t# than M to zero\n",
    "\tM = np.maximum(np.maximum(R, G), B)\n",
    "\tR[R < M] = 0\n",
    "\tG[G < M] = 0\n",
    "\tB[B < M] = 0\n",
    "\t\n",
    "\treturn R,G,B\n",
    "\n",
    "def get_combined_frame(frame):\n",
    "\n",
    "    r,g,b = get_fields(frame)\n",
    "\n",
    "    #row_1 = np.concatenate((frame, r), axis = 0)\n",
    "    #row_2 = np.concatenate((g,b), axis = 0)\n",
    "\n",
    "    row_1 = np.concatenate((cv2.cvtColor(frame, cv2.COLOR_BGR2GRAY), r), axis = 0)\n",
    "    row_2 = np.concatenate((g, b), axis = 0)\n",
    "    tot = np.concatenate((row_1, row_2), axis = 1)\n",
    "    return tot\n",
    "\n",
    "\n",
    "while True:\n",
    "    ret, frame = cap.read()     #ret is a flag that indicates if the frame has been captured\n",
    "    frame = cv2.resize(frame, None, fx=1., fy=1., interpolation=cv2.INTER_AREA)\n",
    "\n",
    "    new_frame = get_combined_frame(frame)\n",
    "\n",
    "    #print(new_frame)\n",
    "    \n",
    "    cv2.putText(new_frame, \"OpenCV - press ESC to exit\", (10, 25), cv2.FONT_HERSHEY_SIMPLEX, 0.7, (0, 0, 0), 2)\n",
    "\n",
    "    cv2.imshow('Input', new_frame)\n",
    "\n",
    "    c = cv2.waitKey(1)\n",
    "    if c == 27:\n",
    "        break       #27 is ascii for ESC\n",
    "\n",
    "cap.release()\n",
    "cv2.destroyAllWindows()"
   ]
  },
  {
   "cell_type": "code",
   "execution_count": null,
   "metadata": {},
   "outputs": [],
   "source": []
  }
 ],
 "metadata": {
  "kernelspec": {
   "display_name": "Python 3.8.10 64-bit",
   "language": "python",
   "name": "python3"
  },
  "language_info": {
   "codemirror_mode": {
    "name": "ipython",
    "version": 3
   },
   "file_extension": ".py",
   "mimetype": "text/x-python",
   "name": "python",
   "nbconvert_exporter": "python",
   "pygments_lexer": "ipython3",
   "version": "3.8.10"
  },
  "orig_nbformat": 4,
  "vscode": {
   "interpreter": {
    "hash": "31f2aee4e71d21fbe5cf8b01ff0e069b9275f58929596ceb00d14d90e3e16cd6"
   }
  }
 },
 "nbformat": 4,
 "nbformat_minor": 2
}
